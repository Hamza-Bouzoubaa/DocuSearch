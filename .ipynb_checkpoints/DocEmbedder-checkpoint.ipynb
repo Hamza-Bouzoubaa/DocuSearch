{
 "cells": [
  {
   "cell_type": "code",
   "execution_count": 87,
   "id": "835728b2-05de-4a44-b97c-5a8a65c673bd",
   "metadata": {},
   "outputs": [],
   "source": [
    "from langchain_community.document_loaders import UnstructuredPDFLoader\n",
    "from langchain.text_splitter import RecursiveCharacterTextSplitter"
   ]
  },
  {
   "cell_type": "code",
   "execution_count": 203,
   "id": "57f52bcf-d18a-45b4-8d68-65334da87b5a",
   "metadata": {},
   "outputs": [],
   "source": [
    "loader = UnstructuredPDFLoader(\"Programmes_et_Admission_Candidates_et_candidats.pdf\")"
   ]
  },
  {
   "cell_type": "code",
   "execution_count": 204,
   "id": "b7b466a8-7740-4b64-886b-7c5607ab1d1e",
   "metadata": {},
   "outputs": [],
   "source": [
    "data = loader.load()"
   ]
  },
  {
   "cell_type": "code",
   "execution_count": 206,
   "id": "1e81119f-8835-4914-a233-ded939324b40",
   "metadata": {},
   "outputs": [],
   "source": [
    "data[0].page_content = data[0].page_content.replace(\"\\n\",\" \")\n"
   ]
  },
  {
   "cell_type": "code",
   "execution_count": null,
   "id": "5c849922-c16b-4555-a23b-f9bc86eb6283",
   "metadata": {},
   "outputs": [],
   "source": []
  },
  {
   "cell_type": "code",
   "execution_count": 188,
   "id": "43e9b749-6e95-438f-855f-c98923d2f46c",
   "metadata": {},
   "outputs": [
    {
     "ename": "AttributeError",
     "evalue": "'str' object has no attribute 'page_content'",
     "output_type": "error",
     "traceback": [
      "\u001b[1;31m---------------------------------------------------------------------------\u001b[0m",
      "\u001b[1;31mAttributeError\u001b[0m                            Traceback (most recent call last)",
      "Cell \u001b[1;32mIn[188], line 1\u001b[0m\n\u001b[1;32m----> 1\u001b[0m \u001b[38;5;28mprint\u001b[39m(\u001b[38;5;28mlen\u001b[39m(\u001b[43mdata\u001b[49m\u001b[43m[\u001b[49m\u001b[38;5;241;43m0\u001b[39;49m\u001b[43m]\u001b[49m\u001b[38;5;241;43m.\u001b[39;49m\u001b[43mpage_content\u001b[49m))\n",
      "\u001b[1;31mAttributeError\u001b[0m: 'str' object has no attribute 'page_content'"
     ]
    }
   ],
   "source": [
    "print(len(data[0].page_content))"
   ]
  },
  {
   "cell_type": "code",
   "execution_count": 208,
   "id": "e682acf0-f96a-46f6-b4f2-6f4260e8497f",
   "metadata": {},
   "outputs": [],
   "source": [
    "Doc = text_splitter.split_documents(data)"
   ]
  },
  {
   "cell_type": "code",
   "execution_count": 209,
   "id": "4d24e23c-fccb-4ce8-8c5a-73007ebc56b2",
   "metadata": {},
   "outputs": [
    {
     "data": {
      "text/plain": [
       "95"
      ]
     },
     "execution_count": 209,
     "metadata": {},
     "output_type": "execute_result"
    }
   ],
   "source": [
    "len(Doc)"
   ]
  },
  {
   "cell_type": "code",
   "execution_count": 213,
   "id": "6ecb90a8-aacd-46cd-942f-fa6ba17cca6b",
   "metadata": {},
   "outputs": [
    {
     "data": {
      "text/plain": [
       "'ICI , ÇA SE PEUT  Là où le monde vient étudier  Vous trouverez chez nous un parfait équilibre :  l’action et les possibilités d’une grande ville, combinées  à une ambiance décontractée tout près de la nature.  Notre magnifique campus en plein cœur d’Ottawa  est l’endroit idéal où profiter d’une éducation de  calibre mondial.  Tirez parti de notre excellente réputation  Nous figurons systématiquement parmi les  meilleures universités au Canada et au monde1.  Célébrez le bilinguisme  Nous sommes la plus grande université bilingue  français-anglais au monde. C’est ce qui nous  distingue. Ici, vous rencontrerez des gens issus  d’une foule de cultures différentes.  Tracez votre propre parcours  Faites des études qui sont aussi uniques que  vous en choisissant parmi plus de 350 programmes  de premier cycle. Ce ne sont pas les possibilités  qui manquent! Consultez nos tableaux des programmes  à la page 38 pour voir tout ce que nous proposons.  Vivez près de tout  Ottawa se classe constamment'"
      ]
     },
     "execution_count": 213,
     "metadata": {},
     "output_type": "execute_result"
    }
   ],
   "source": [
    "(Doc[1].page_content)"
   ]
  },
  {
   "cell_type": "code",
   "execution_count": 23,
   "id": "a49ac571-6fd7-4372-877b-497751598d46",
   "metadata": {},
   "outputs": [],
   "source": [
    "from langchain.embeddings import AzureOpenAIEmbeddings\n",
    "from langchain.vectorstores import Pinecone\n",
    "import pinecone\n",
    "import os\n",
    "## setting up AzureOpenAI\n",
    "os.environ[\"openai_api_type\"] = \"azure\"\n",
    "os.environ[\"AZURE_OPENAI_ENDPOINT\"] = \"https://hamzaopenai.openai.azure.com/\"\n",
    "os.environ[\"openai_api_version\"]  = \"2023-07-01-preview\"\n",
    "os.environ[\"openai_api_key\"] = \"dd51e19fe6d04f3b937fe53da56b60f1\"\n",
    "\n",
    "#embeddings =  AzureOpenAIEmbeddings(model = \"text-embedding-ada-002\")  # Generating embeddings\n",
    "embeddings =  AzureOpenAIEmbeddings(openai_api_key = \"dd51e19fe6d04f3b937fe53da56b60f1\")  # Generating embeddings\n"
   ]
  },
  {
   "cell_type": "code",
   "execution_count": 5,
   "id": "66934985-f4e8-4ca9-a611-0f2f6c37b359",
   "metadata": {},
   "outputs": [],
   "source": [
    "loader = UnstructuredPDFLoader(\"Programmes_et_Admission_Candidates_et_candidats.pdf\")  \n",
    "data = loader.load()"
   ]
  },
  {
   "cell_type": "code",
   "execution_count": 40,
   "id": "27554b98-ac60-4bd2-b919-f77a550d2538",
   "metadata": {},
   "outputs": [
    {
     "name": "stdout",
     "output_type": "stream",
     "text": [
      "Couldn't extract from this page: Programmes_et_Admission_Candidates_et_candidats\\Programmes_et_Admission_Candidates_et_candidats_page2.pdf\n"
     ]
    }
   ],
   "source": [
    "import os  \n",
    "import PyPDF2  \n",
    "from langchain_community.document_loaders import UnstructuredPDFLoader  \n",
    "import shutil  \n",
    "  \n",
    "def split_pdf_extract_text(pdf_file_path):  \n",
    "    # Initialize PDF file reader object  \n",
    "    pdf = PyPDF2.PdfFileReader(pdf_file_path)  \n",
    "  \n",
    "    # Get the base file name (without extension)  \n",
    "    base_file_name = os.path.splitext(os.path.basename(pdf_file_path))[0]  \n",
    "  \n",
    "    # Create a directory with the base file name  \n",
    "    os.makedirs(base_file_name, exist_ok=True)  \n",
    "  \n",
    "    # Initialize the dictionary to hold the results  \n",
    "    doc = {}  \n",
    "  \n",
    "    # Split the PDF into individual pages and extract text  \n",
    "    for page in range(pdf.getNumPages()):  \n",
    "        # Create a writer object and add the page to it  \n",
    "        pdf_writer = PyPDF2.PdfFileWriter()  \n",
    "        pdf_writer.addPage(pdf.getPage(page))  \n",
    "  \n",
    "        # Create the output file path for the page  \n",
    "        output_filename = os.path.join(base_file_name, f'{base_file_name}_page{page+1}.pdf')  \n",
    "  \n",
    "        # Write the page to a new PDF file  \n",
    "        with open(output_filename, 'wb') as out:  \n",
    "            pdf_writer.write(out)  \n",
    "  \n",
    "        try:  \n",
    "            # Load the page content using UnstructuredPDFLoader  \n",
    "            loader = UnstructuredPDFLoader(output_filename)  \n",
    "            data = loader.load()  \n",
    "            data[0].page_content = data[0].page_content.replace(\"\\n\", \" \")  \n",
    "  \n",
    "            # Add the page content and page number to the dictionary  \n",
    "            doc[f'doc{page}'] = {'text': data[0].page_content, 'page': page+1}  \n",
    "        except:  \n",
    "            print(f\"Couldn't extract from this page: {output_filename}\")  \n",
    "  \n",
    "    # Delete the directory with all the individual page PDF files  \n",
    "    shutil.rmtree(base_file_name)  \n",
    "  \n",
    "    return doc  \n",
    "\n",
    "\n",
    "Doc = split_pdf_extract_text(\"Programmes_et_Admission_Candidates_et_candidats.pdf\")\n"
   ]
  },
  {
   "cell_type": "code",
   "execution_count": 37,
   "id": "ddfb6e37-e2a1-46ff-bc74-3dc053dfcd2c",
   "metadata": {},
   "outputs": [
    {
     "data": {
      "text/plain": [
       "'Programmes_et_Admission_Candidates_et_candidats_page-1.pdf'"
      ]
     },
     "execution_count": 37,
     "metadata": {},
     "output_type": "execute_result"
    }
   ],
   "source": [
    "def extract_page(pdf_file_path, page_number):  \n",
    "    # Initialize PDF file reader object  \n",
    "    pdf = PyPDF2.PdfFileReader(pdf_file_path)  \n",
    "  \n",
    "    # Create a writer object and add the page to it  \n",
    "    pdf_writer = PyPDF2.PdfFileWriter()  \n",
    "    pdf_writer.addPage(pdf.getPage(page_number - 1))  \n",
    "  \n",
    "    # Get the base file name (without extension)  \n",
    "    base_file_name = os.path.splitext(os.path.basename(pdf_file_path))[0]  \n",
    "  \n",
    "    # Create the output file path for the page  \n",
    "    output_filename = f'{base_file_name}_page{page_number}.pdf'  \n",
    "  \n",
    "    # Write the page to a new PDF file  \n",
    "    with open(output_filename, 'wb') as out:  \n",
    "        pdf_writer.write(out)  \n",
    "  \n",
    "    return output_filename  \n",
    "\n",
    "\n",
    "extract_page(\"Programmes_et_Admission_Candidates_et_candidats.pdf\",-1)\n"
   ]
  },
  {
   "cell_type": "code",
   "execution_count": 44,
   "id": "0df56c2d-9630-4336-a424-fe88e219e606",
   "metadata": {},
   "outputs": [
    {
     "name": "stdout",
     "output_type": "stream",
     "text": [
      "0\n",
      "2\n",
      "3\n",
      "4\n",
      "5\n",
      "6\n",
      "7\n",
      "8\n",
      "9\n",
      "0\n",
      "1\n",
      "2\n",
      "3\n",
      "4\n",
      "5\n",
      "6\n",
      "7\n",
      "8\n",
      "9\n",
      "0\n",
      "1\n",
      "2\n",
      "3\n",
      "4\n",
      "5\n",
      "6\n",
      "7\n",
      "8\n",
      "9\n",
      "0\n",
      "1\n",
      "2\n",
      "3\n",
      "4\n",
      "5\n",
      "6\n",
      "7\n",
      "8\n",
      "9\n",
      "0\n",
      "1\n",
      "2\n",
      "3\n",
      "4\n",
      "5\n",
      "6\n",
      "7\n",
      "8\n",
      "9\n",
      "0\n",
      "1\n",
      "2\n",
      "3\n",
      "4\n",
      "5\n"
     ]
    }
   ],
   "source": [
    "for docs in Doc:\n",
    "    \n",
    "    print(docs[])\n",
    "\n",
    "    \n",
    "    "
   ]
  },
  {
   "cell_type": "code",
   "execution_count": null,
   "id": "c234e26d-62ac-454f-aecc-222676fd279d",
   "metadata": {},
   "outputs": [],
   "source": []
  },
  {
   "cell_type": "code",
   "execution_count": null,
   "id": "0116849f-aa96-4c56-a4e5-13635655e4e3",
   "metadata": {},
   "outputs": [],
   "source": []
  },
  {
   "cell_type": "code",
   "execution_count": null,
   "id": "b56ca68e-6ffc-4b9c-a0c6-004eba2d933f",
   "metadata": {},
   "outputs": [],
   "source": []
  },
  {
   "cell_type": "code",
   "execution_count": null,
   "id": "bfc62735-4411-4a21-a7d1-015c5da22fbb",
   "metadata": {},
   "outputs": [],
   "source": []
  },
  {
   "cell_type": "code",
   "execution_count": 196,
   "id": "ecd3e98a-b2c4-4b0b-977d-d800e165631a",
   "metadata": {},
   "outputs": [],
   "source": [
    "#docsearch = Pinecone(embeddings,index_name = index_name)\n",
    "\n",
    "\n",
    "\n",
    "def SearchInPineconeIndex(APIKey,IndexName,Query,k=3):\n",
    "    from pinecone import Pinecone\n",
    "\n",
    "    pc = Pinecone(api_key = APIKey )\n",
    "    index = pc.Index(IndexName )\n",
    "    Vector = embeddings.embed_documents([Query])\n",
    "    Result = index.query(vector=Vector[0],top_k=k, include_values=True,include_metadata=True)\n",
    "\n",
    "    TextRes  = [Text['metadata']['text'] for Text in Result['matches']]\n",
    "    \n",
    "    return TextRes\n",
    "\n",
    "\n",
    "def CreateAndFillPod(PineconeAPIKey,OpenAIKey,IndexName,PDFDoc,Metric=\"cosine\"):\n",
    "    def CreatePod():\n",
    "        from pinecone import Pinecone, PodSpec\n",
    "    \n",
    "        pc = Pinecone(api_key=PineconeAPIKey)\n",
    "        \n",
    "        pc.create_index(\n",
    "        \tname=IndexName,\n",
    "        \tdimension=1536,\n",
    "        \tmetric=Metric,\n",
    "        \tspec=PodSpec(\n",
    "        \t\tenvironment='eastus-azure',\n",
    "        \t\tpod_type='p1.x1',\n",
    "        \t\tpods=1,\n",
    "        \t\tmetadata_config={ \n",
    "        \t\t\t'indexed': ['propertyName']\n",
    "        \t\t}\n",
    "        \t)\n",
    "        )\n",
    "        \n",
    "    def FillPod():\n",
    "        from time import sleep\n",
    "        from langchain.embeddings import AzureOpenAIEmbeddings\n",
    "\n",
    "        loader = UnstructuredPDFLoader(PDFDoc)\n",
    "        data = loader.load()\n",
    "        text_splitter = RecursiveCharacterTextSplitter(chunk_size = 1000,chunk_overlap = 0)\n",
    "        Doc = text_splitter.split_documents(data)\n",
    "        \n",
    "        embeddings =  AzureOpenAIEmbeddings(openai_api_key = OpenAIKey)  # Generating embeddings\n",
    "        \n",
    "        index = pc.Index(IndexName)    \n",
    "        DocumentVector = embeddings.embed_documents([doc.page_content for doc in (Doc)])\n",
    "    \n",
    "        \n",
    "    \n",
    "        for i in range(len(DocumentVector)):\n",
    "            index.upsert(vectors=[{\"id\": str(i),\"values\": DocumentVector[i],\"metadata\":{\"text\":(Doc[i].page_content)}}])\n",
    "\n",
    "    CreatePod()\n",
    "    sleep(20)\n",
    "    FillPod\n",
    "\n",
    "    \n",
    "\n",
    "CreateAndFillPod(\"0e9750f7-2c21-4184-bb77-870cb58f8540\",\"dd51e19fe6d04f3b937fe53da56b60f1\",\"hamzaindex\",\"Programmes_et_Admission_Candidates_et_candidats.pdf\")\n",
    "\n",
    "#res = SearchInPineconeIndex(\"0e9750f7-2c21-4184-bb77-870cb58f8540\",\"uottawa2\",\"lll\")\n",
    "    \n",
    "    \n",
    "\n"
   ]
  },
  {
   "cell_type": "code",
   "execution_count": 161,
   "id": "e4bbee1e-50bb-485c-b8da-c6ec4a47db08",
   "metadata": {},
   "outputs": [
    {
     "data": {
      "text/plain": [
       "[\"Droit civil (LL.L.) et maîtrise en administration des affaires (M.B.A.) (cours de LL.L. offerts en français seulement)\\n\\nLL.L.\\n\\n+ MA\\n\\n\\n\\n\\n\\n\\n\\nTeacher Education (French as a second language)\\n\\nB.Éd.\\n\\n\\n\\n\\n\\n\\n\\n\\n\\n\\n\\nProgramme national (LL.L) – un an\\n\\nLL.L.\\n\\n\\n\\n\\n\\n\\n\\n\\n\\n\\n\\nDoubles diplômes accélérés\\n\\nDoubles diplômes accélérés droit civil\\n\\nDroit civil (LL.L.) et développement international et mondialisation (B.Sc.Soc.) (cours de LL.L. offerts en français seulement)\\n\\nLL.L.\\n\\n+\\n\\nS\\n\\n\\n\\nCOOP\\n\\nSciences de l’activité physique — éducation et coaching (B.S.A.P.) et formation à l'enseignement (cycles primaire/moyen, moyen/intermédiaire ou intermédiaire/ supérieur) (B.Éd.) (offert en français seulement)\\n\\nVoir la Faculté des sciences de la santé\\n\\nFaculté de médecine\\n\\nVoir pages 34-35\\n\\nProgramme de droit canadien (LL.L. et J.D.) (offert en français seulement)\\n\\nVoir la Faculté de droit – Common law\\n\\nDoctorat de premier cycle en pharmacie (Pharm.D.) (offert en français seulement)\\n\\nPharm.D.\\n\\n\\n\\n\\n\\n\\n\\nCOOP\",\n",
       " '26 Lees\\n\\n11\\n\\n27\\n\\n11\\n\\nAVENUE MANN\\n\\nPLACE TD\\n\\n15 MIN\\n\\nStation Lees du train léger\\n\\n5 MIN\\n\\n26\\n\\nAUTOROUTE 417\\n\\n6\\n\\nAUTOROUTE 417\\n\\n17\\n\\nCAMPUS LEES\\n\\nFaculté des\\n\\narts\\n\\nVous voulez voir vos idées transformer le monde?\\n\\nJoignez-vous à une communauté dynamique de\\n\\npersonnes engagées – qu’elles soient aux études ou se\\n\\nvouent aux arts, à la réflexion ou à l’entrepreneuriat –\\n\\nqui ont à cœur l’innovation et la recherche de solutions\\n\\naux problèmes contemporains.\\n\\nQue vous vous intéressiez aux sciences humaines, aux\\n\\nlangues et à la littérature, ou aux beaux-arts et aux\\n\\narts de la scène, nos programmes d’études – étroitement\\n\\n18\\n\\nintégrés aux communautés culturelles, artistiques,\\n\\npolitiques et scientifiques de la région de la capitale\\n\\nnationale – vous donneront les connaissances, les\\n\\ncompétences et les espaces créatifs dont vous avez\\n\\nbesoin pour comprendre le monde, ses peuples, ses\\n\\ncultures, ses langues et ses environnements.\\n\\nFaçonnez votre avenir en explorant le savoir culturel du',\n",
       " 'pouvez aussi tisser des amitiés et bouger en participant\\n\\nà nos activités de sport intra-muros et de\\n\\n\\n\\nconditionnement physique.\\n\\nÉquipes interuniversitaires\\n\\nIntra-muros\\n\\nClubs interuniversitaires\\n\\nRécréatif\\n\\nArts martiaux\\n\\nMixte\\n\\nConditionnement en groupe (20+ programmes)\\n\\nMixte\\n\\nAthlétisme et cross-country\\n\\nConditionnement et entraînement musculaire (10+ programmes)\\n\\nH, F\\n\\nMixte\\n\\nAviron H, F\\n\\nCrosse\\n\\nH\\n\\nBadminton\\n\\nDanse\\n\\nH, F Mixte\\n\\nH, F Mixte\\n\\nBallon-chasseur\\n\\nÉquitation\\n\\nMixte\\n\\nH, F\\n\\nBaseball\\n\\nH\\n\\nEscrime H, F\\n\\nBasketball\\n\\nH, F Mixte Mixte\\n\\nFlag football\\n\\nMixte\\n\\nCheerleading\\n\\nFootball\\n\\nMixte\\n\\nH\\n\\n12\\n\\nFrisbee ultime H, F Mixte\\n\\nGolf\\n\\nH, F\\n\\nHockey\\n\\nH, F Mixte Mixte\\n\\nMulti-sport\\n\\nMixte\\n\\nNatation\\n\\nH, F Mixte\\n\\nNage synchronisée\\n\\nMixte\\n\\nPatinage Mixte\\n\\nPickleball\\n\\nMixte\\n\\nRinguette\\n\\nF\\n\\nRugby F H\\n\\nSki nordique\\n\\nH, F\\n\\nSoccer\\n\\nF H Mixte Mixte\\n\\nSquash\\n\\nMixte Mixte\\n\\nSoftball\\n\\nF\\n\\nTennis H, F\\n\\nVolleyball\\n\\nH F Mixte Mixte\\n\\nWaterpolo\\n\\nH, F\\n\\nICI , ÇA SE PEUT\\n\\nRégalez-vous!']"
      ]
     },
     "execution_count": 161,
     "metadata": {},
     "output_type": "execute_result"
    }
   ],
   "source": [
    "res"
   ]
  },
  {
   "cell_type": "code",
   "execution_count": 82,
   "id": "8412fe24-a9f2-4c93-8151-9cd1dc9c7c96",
   "metadata": {},
   "outputs": [],
   "source": [
    "from pinecone import Pinecone\n",
    "\n",
    "pc = Pinecone(api_key='0e9750f7-2c21-4184-bb77-870cb58f8540')\n",
    "\n",
    "index = pc.Index('uottawa')\n",
    "\n",
    "Query = \"quelles sont les residende disponible a luniversité dottawa?\"\n",
    "Vector = embeddings.embed_documents([ Query])\n",
    "\n",
    "resu = index.query(\n",
    "    #namespace=\"ns1\",\n",
    "    vector=Vector[0],\n",
    "    top_k=1,\n",
    "    include_values=True,\n",
    "    include_metadata=True,\n",
    "    #filter={\"genre\": {\"$eq\": \"action\"}}\n",
    ")"
   ]
  },
  {
   "cell_type": "code",
   "execution_count": 149,
   "id": "10d6ae99-a674-4b95-93ab-47570a834356",
   "metadata": {},
   "outputs": [],
   "source": [
    "resu['matches'][0]['metadata']['text']\n",
    "TextRes  = [Text['metadata']['text'] for Text in resu['matches']]\n"
   ]
  },
  {
   "cell_type": "code",
   "execution_count": 124,
   "id": "5561edc2-9443-45c2-83fb-2991aad58a17",
   "metadata": {},
   "outputs": [],
   "source": [
    "DocumentVector = embeddings.embed_documents([doc.page_content for doc in (Doc)])\n"
   ]
  },
  {
   "cell_type": "code",
   "execution_count": 153,
   "id": "b23b4e13-dc17-4d39-94f0-9b3deb641169",
   "metadata": {},
   "outputs": [],
   "source": [
    "index = pc.Index('uottawa2')\n",
    "\n",
    "for i in range(len(DocumentVector)):\n",
    "    index.upsert(vectors=[{\"id\": str(i),\"values\": DocumentVector[i],\"metadata\":{\"text\":(Doc[i].page_content)}}])"
   ]
  },
  {
   "cell_type": "code",
   "execution_count": 141,
   "id": "ebeb18dd-2db6-4fb0-b97f-9c6d6a336c50",
   "metadata": {},
   "outputs": [],
   "source": [
    "Query = \"pre requis de genie logiciel\"\n",
    "Vector = embeddings.embed_documents([ Query])\n",
    "\n",
    "resu = index.query(\n",
    "    #namespace=\"ns1\",\n",
    "    vector=Vector[0],\n",
    "    top_k=1,\n",
    "    include_values=True,\n",
    "    include_metadata=True,\n",
    "    #filter={\"genre\": {\"$eq\": \"action\"}}\n",
    ")"
   ]
  },
  {
   "cell_type": "code",
   "execution_count": 142,
   "id": "06c21571-7564-4e3f-a46d-00b73558c6ed",
   "metadata": {},
   "outputs": [
    {
     "data": {
      "text/plain": [
       "'Une moyenne minimale combinée de 70 % est exigée pour les cours préalables de sciences et de mathématiques, sauf en génie logiciel, où une moyenne minimale de 70 % est exigée pour chacun des cours préalables.\\n\\nDiscipline\\n\\nCours préalables et autres exigences\\n\\nConception multidisciplinaire – apprentissage expérientiel\\n\\nFrançais 4U ou English 4U • Calcul différentiel et vecteurs 4U ou Fonctions avancées 4U\\n\\nUn cours parmi : Biologie 4U, Chimie 4U, Génie informatique 4U, Physique 4U\\n\\nPortfolio • Entrevue\\n\\nLes étudiants et étudiantes qui n’ont pas suivi le cours préalable de mathématique 4U pourront suivre le cours équivalent à l’Université durant l’été qui précède leur premier trimestre ou durant leur premier trimestre.\\n\\nGénie chimique\\n\\nGénie civil\\n\\nGénie électrique\\n\\nGénie informatique*\\n\\nFrançais 4U ou English 4U • Calcul différentiel et vecteurs 4U • Fonctions avancées 4U • Chimie 4U • Physique 4U\\n\\nGénie mécanique\\n\\nGénie logiciel*\\n\\nFrançais 4U ou English 4U'"
      ]
     },
     "execution_count": 142,
     "metadata": {},
     "output_type": "execute_result"
    }
   ],
   "source": [
    "resu['matches'][0]['metadata']['text']"
   ]
  },
  {
   "cell_type": "code",
   "execution_count": null,
   "id": "dc079cb2-1255-443b-b34c-49c115ecb5c0",
   "metadata": {},
   "outputs": [],
   "source": []
  }
 ],
 "metadata": {
  "kernelspec": {
   "display_name": "Python 3 (ipykernel)",
   "language": "python",
   "name": "python3"
  },
  "language_info": {
   "codemirror_mode": {
    "name": "ipython",
    "version": 3
   },
   "file_extension": ".py",
   "mimetype": "text/x-python",
   "name": "python",
   "nbconvert_exporter": "python",
   "pygments_lexer": "ipython3",
   "version": "3.10.11"
  }
 },
 "nbformat": 4,
 "nbformat_minor": 5
}
