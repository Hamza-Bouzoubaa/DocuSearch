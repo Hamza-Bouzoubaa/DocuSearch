{
 "cells": [
  {
   "cell_type": "code",
   "execution_count": 8,
   "id": "02c7c096-736d-40c1-bdd8-669060d0a66f",
   "metadata": {},
   "outputs": [],
   "source": [
    "import os\n",
    "\n",
    "from langchain.schema import HumanMessage\n",
    "from langchain_openai import AzureChatOpenAI\n",
    "from langchain import PromptTemplate\n",
    "from langchain.chains import LLMChain\n",
    "\n",
    "from PineconeRAG import SearchInPineconeIndex\n",
    "\n",
    "\n",
    "from EnbeddingsCreator import GenerateEmbeddings, QuerySimilaritySearch\n",
    "\n",
    "from dotenv import load_dotenv\n",
    "\n",
    "\n",
    "# Load API keys from .env file\n",
    "load_dotenv('.env')\n",
    "\n",
    "# Get the API keys from environment variables\n",
    "PINECONE_API_KEY = os.getenv('PINECONE_API_KEY')\n",
    "OPENAI_KEY = os.getenv('OPENAI_API_KEY')\n",
    "\n",
    "\n",
    "model = AzureChatOpenAI(\n",
    "    openai_api_version=\"2023-05-15\",\n",
    "    azure_deployment=\"gpt-35-turbo-16k\",\n",
    ")\n",
    "\n",
    "Template = \"\"\"\n",
    "        You are a world class assistant.\n",
    "        You help find answers to questions using sources.\n",
    "        Only provide answers that have a source and don't give answers you are not sure about.\n",
    "        Your answers have to be precise and concise(make bullet point when possible).\n",
    "        Each time you give an answer provide the page number where you found it.\n",
    "        \n",
    "        Help answering the following questions:\n",
    "        {question}\n",
    "\n",
    "        Thease are the sources that you should use to answer the question:\n",
    "        {DataInfo}\n",
    "\n",
    "        this is the context of the discussion, use it if needed.\n",
    "        {chathistory}\n",
    "        \n",
    "            \"\"\"\n",
    "\n",
    "\n",
    "prompt = PromptTemplate(  \n",
    "    input_variables=[\"question\",\"chathistory\",\"DataInfo\"],  \n",
    "    template=Template  \n",
    ")  \n",
    "\n",
    "chain = LLMChain(llm=model, prompt=prompt)\n",
    "\n",
    "history = []  \n",
    "history_limit = 20\n",
    "\n",
    "\n",
    "def generate_response(message,history,DataInfo):\n",
    "    response = chain.run(question = message,chathistory = history,DataInfo=DataInfo)\n",
    "    return response\n",
    "\n",
    "#documentEmbeddings\n",
    "def AskRAGQuestion():\n",
    "\n",
    "    while True:\n",
    "        message = input(\"Enter your message: \")\n",
    "        res = SearchInPineconeIndex(PINECONE_API_KEY,OPENAI_KEY,\"uottawaprospectus\",message)\n",
    "        \n",
    "        \n",
    "        #Data = QuerySimilaritySearch(message,documentEmbeddings)\n",
    "        response = generate_response(message,history,res)\n",
    "        history.append(message)  \n",
    "        history.append(response)\n",
    "    \n",
    "        while len(history) > history_limit:  \n",
    "            history.pop(0) \n",
    "    \n",
    "        #print(f\"history : {history}\")\n",
    "        print(response)\n",
    "    \n",
    "    \n",
    "    \n",
    "\n"
   ]
  },
  {
   "cell_type": "code",
   "execution_count": 13,
   "id": "ff539ae1-d10f-4d50-8bb2-b4cf619b49e5",
   "metadata": {},
   "outputs": [
    {
     "name": "stdout",
     "output_type": "stream",
     "text": [
      "uottawaprospectus\n",
      "docsearch\n",
      "hamzaindex\n"
     ]
    }
   ],
   "source": [
    "from pinecone import Pinecone\n",
    "\n",
    "pc = Pinecone(api_key=PINECONE_API_KEY)\n",
    "indexes = pc.list_indexes()\n",
    "for index in indexes:\n",
    "    print(index[\"name\"])"
   ]
  },
  {
   "cell_type": "code",
   "execution_count": 9,
   "id": "9d918c61-b8a8-44e8-9772-9340dccca430",
   "metadata": {},
   "outputs": [
    {
     "name": "stdin",
     "output_type": "stream",
     "text": [
      "Enter your message:  C'est quoi le programme LLL et pourquoi le choisir\n"
     ]
    },
    {
     "name": "stderr",
     "output_type": "stream",
     "text": [
      "C:\\Users\\hamza\\AppData\\Local\\Programs\\Python\\Python310\\lib\\site-packages\\langchain_core\\_api\\deprecation.py:117: LangChainDeprecationWarning: The function `run` was deprecated in LangChain 0.1.0 and will be removed in 0.2.0. Use invoke instead.\n",
      "  warn_deprecated(\n"
     ]
    },
    {
     "name": "stdout",
     "output_type": "stream",
     "text": [
      "Le programme LLL est un programme de la Faculté de droit de l'Université d'Ottawa.\n",
      "On choisit ce programme pour les raisons suivantes :\n",
      "- Il offre un taux d'emploi de 95% [page 33]\n",
      "- Il est classé au 4e rang des meilleures facultés de droit au Canada [page 33]\n",
      "- Il propose plus de 400 stages par année [page 33]\n",
      "- Les exigences d'admission pour le LL.L. sont les suivantes :\n",
      "    - Licence en droit (LL.L. en français) avec ou sans baccalauréat en sciences sociales spécialisé en développement international et mondialisation [page 33]\n",
      "    - Diplôme d'études collégiales (DEC) au Québec, diplôme d'un programme de deux ans d'un collège d'arts appliqués et de technologie (CAAT) de l'Ontario, ou 30 crédits universitaires [page 33]\n",
      "    - Moyenne d'au moins A- (80 %) pour les études collégiales et de 78 % pour les études universitaires [page 33]\n",
      "- Les exigences d'admission pour le J.D. (common law) sont les suivantes :\n",
      "    - Trois années d'études universitaires de premier cycle [page 33]\n",
      "    - Moyenne d'au moins A- (80 %) [page 33]\n",
      "    - Réussite du Law School Admission Test (LSAT) (anglais seulement) [page 33]\n",
      "- Il est possible d'explorer les autres programmes et leurs exigences d'admission [page 33].\n"
     ]
    },
    {
     "name": "stdin",
     "output_type": "stream",
     "text": [
      "Enter your message:  quel sont les pre requis du programme genie logiciel?\n"
     ]
    },
    {
     "name": "stdout",
     "output_type": "stream",
     "text": [
      "Les prérequis du programme Génie Logiciel sont les suivants :\n",
      "- Français 4U ou English 4U\n",
      "- Calcul différentiel et vecteurs 4U\n",
      "- Fonctions avancées 4U\n",
      "- Un cours parmi : Biologie 4U, Chimie 4U, Génie informatique 4U, Physique 4U\n",
      "(Page 26.0)\n"
     ]
    },
    {
     "ename": "KeyboardInterrupt",
     "evalue": "Interrupted by user",
     "output_type": "error",
     "traceback": [
      "\u001b[1;31m---------------------------------------------------------------------------\u001b[0m",
      "\u001b[1;31mKeyboardInterrupt\u001b[0m                         Traceback (most recent call last)",
      "Cell \u001b[1;32mIn[9], line 2\u001b[0m\n\u001b[0;32m      1\u001b[0m \u001b[38;5;66;03m#docEmbeddings  = GenerateEmbeddings(\"Programmes_et_Admission_Candidates_et_candidats.pdf\")\u001b[39;00m\n\u001b[1;32m----> 2\u001b[0m \u001b[43mAskRAGQuestion\u001b[49m\u001b[43m(\u001b[49m\u001b[43m)\u001b[49m\n",
      "Cell \u001b[1;32mIn[8], line 67\u001b[0m, in \u001b[0;36mAskRAGQuestion\u001b[1;34m()\u001b[0m\n\u001b[0;32m     64\u001b[0m \u001b[38;5;28;01mdef\u001b[39;00m \u001b[38;5;21mAskRAGQuestion\u001b[39m():\n\u001b[0;32m     66\u001b[0m     \u001b[38;5;28;01mwhile\u001b[39;00m \u001b[38;5;28;01mTrue\u001b[39;00m:\n\u001b[1;32m---> 67\u001b[0m         message \u001b[38;5;241m=\u001b[39m \u001b[38;5;28;43minput\u001b[39;49m\u001b[43m(\u001b[49m\u001b[38;5;124;43m\"\u001b[39;49m\u001b[38;5;124;43mEnter your message: \u001b[39;49m\u001b[38;5;124;43m\"\u001b[39;49m\u001b[43m)\u001b[49m\n\u001b[0;32m     68\u001b[0m         res \u001b[38;5;241m=\u001b[39m SearchInPineconeIndex(PINECONE_API_KEY,OPENAI_KEY,\u001b[38;5;124m\"\u001b[39m\u001b[38;5;124muottawaprospectus\u001b[39m\u001b[38;5;124m\"\u001b[39m,message)\n\u001b[0;32m     71\u001b[0m         \u001b[38;5;66;03m#Data = QuerySimilaritySearch(message,documentEmbeddings)\u001b[39;00m\n",
      "File \u001b[1;32m~\\AppData\\Local\\Programs\\Python\\Python310\\lib\\site-packages\\ipykernel\\kernelbase.py:1251\u001b[0m, in \u001b[0;36mKernel.raw_input\u001b[1;34m(self, prompt)\u001b[0m\n\u001b[0;32m   1249\u001b[0m     msg \u001b[38;5;241m=\u001b[39m \u001b[38;5;124m\"\u001b[39m\u001b[38;5;124mraw_input was called, but this frontend does not support input requests.\u001b[39m\u001b[38;5;124m\"\u001b[39m\n\u001b[0;32m   1250\u001b[0m     \u001b[38;5;28;01mraise\u001b[39;00m StdinNotImplementedError(msg)\n\u001b[1;32m-> 1251\u001b[0m \u001b[38;5;28;01mreturn\u001b[39;00m \u001b[38;5;28;43mself\u001b[39;49m\u001b[38;5;241;43m.\u001b[39;49m\u001b[43m_input_request\u001b[49m\u001b[43m(\u001b[49m\n\u001b[0;32m   1252\u001b[0m \u001b[43m    \u001b[49m\u001b[38;5;28;43mstr\u001b[39;49m\u001b[43m(\u001b[49m\u001b[43mprompt\u001b[49m\u001b[43m)\u001b[49m\u001b[43m,\u001b[49m\n\u001b[0;32m   1253\u001b[0m \u001b[43m    \u001b[49m\u001b[38;5;28;43mself\u001b[39;49m\u001b[38;5;241;43m.\u001b[39;49m\u001b[43m_parent_ident\u001b[49m\u001b[43m[\u001b[49m\u001b[38;5;124;43m\"\u001b[39;49m\u001b[38;5;124;43mshell\u001b[39;49m\u001b[38;5;124;43m\"\u001b[39;49m\u001b[43m]\u001b[49m\u001b[43m,\u001b[49m\n\u001b[0;32m   1254\u001b[0m \u001b[43m    \u001b[49m\u001b[38;5;28;43mself\u001b[39;49m\u001b[38;5;241;43m.\u001b[39;49m\u001b[43mget_parent\u001b[49m\u001b[43m(\u001b[49m\u001b[38;5;124;43m\"\u001b[39;49m\u001b[38;5;124;43mshell\u001b[39;49m\u001b[38;5;124;43m\"\u001b[39;49m\u001b[43m)\u001b[49m\u001b[43m,\u001b[49m\n\u001b[0;32m   1255\u001b[0m \u001b[43m    \u001b[49m\u001b[43mpassword\u001b[49m\u001b[38;5;241;43m=\u001b[39;49m\u001b[38;5;28;43;01mFalse\u001b[39;49;00m\u001b[43m,\u001b[49m\n\u001b[0;32m   1256\u001b[0m \u001b[43m\u001b[49m\u001b[43m)\u001b[49m\n",
      "File \u001b[1;32m~\\AppData\\Local\\Programs\\Python\\Python310\\lib\\site-packages\\ipykernel\\kernelbase.py:1295\u001b[0m, in \u001b[0;36mKernel._input_request\u001b[1;34m(self, prompt, ident, parent, password)\u001b[0m\n\u001b[0;32m   1292\u001b[0m \u001b[38;5;28;01mexcept\u001b[39;00m \u001b[38;5;167;01mKeyboardInterrupt\u001b[39;00m:\n\u001b[0;32m   1293\u001b[0m     \u001b[38;5;66;03m# re-raise KeyboardInterrupt, to truncate traceback\u001b[39;00m\n\u001b[0;32m   1294\u001b[0m     msg \u001b[38;5;241m=\u001b[39m \u001b[38;5;124m\"\u001b[39m\u001b[38;5;124mInterrupted by user\u001b[39m\u001b[38;5;124m\"\u001b[39m\n\u001b[1;32m-> 1295\u001b[0m     \u001b[38;5;28;01mraise\u001b[39;00m \u001b[38;5;167;01mKeyboardInterrupt\u001b[39;00m(msg) \u001b[38;5;28;01mfrom\u001b[39;00m \u001b[38;5;28;01mNone\u001b[39;00m\n\u001b[0;32m   1296\u001b[0m \u001b[38;5;28;01mexcept\u001b[39;00m \u001b[38;5;167;01mException\u001b[39;00m:\n\u001b[0;32m   1297\u001b[0m     \u001b[38;5;28mself\u001b[39m\u001b[38;5;241m.\u001b[39mlog\u001b[38;5;241m.\u001b[39mwarning(\u001b[38;5;124m\"\u001b[39m\u001b[38;5;124mInvalid Message:\u001b[39m\u001b[38;5;124m\"\u001b[39m, exc_info\u001b[38;5;241m=\u001b[39m\u001b[38;5;28;01mTrue\u001b[39;00m)\n",
      "\u001b[1;31mKeyboardInterrupt\u001b[0m: Interrupted by user"
     ]
    }
   ],
   "source": [
    "#docEmbeddings  = GenerateEmbeddings(\"Programmes_et_Admission_Candidates_et_candidats.pdf\")\n",
    "AskRAGQuestion()"
   ]
  },
  {
   "cell_type": "code",
   "execution_count": null,
   "id": "6c2dedb7-685e-4d0a-b826-3e05dca8c7a0",
   "metadata": {},
   "outputs": [],
   "source": []
  },
  {
   "cell_type": "code",
   "execution_count": null,
   "id": "1b787074-112b-4c56-82de-5a6673e72ddd",
   "metadata": {},
   "outputs": [],
   "source": []
  },
  {
   "cell_type": "code",
   "execution_count": null,
   "id": "d8bca3d6-18c6-4e67-a382-a77f07841daf",
   "metadata": {},
   "outputs": [],
   "source": []
  }
 ],
 "metadata": {
  "kernelspec": {
   "display_name": "Python 3 (ipykernel)",
   "language": "python",
   "name": "python3"
  },
  "language_info": {
   "codemirror_mode": {
    "name": "ipython",
    "version": 3
   },
   "file_extension": ".py",
   "mimetype": "text/x-python",
   "name": "python",
   "nbconvert_exporter": "python",
   "pygments_lexer": "ipython3",
   "version": "3.10.11"
  }
 },
 "nbformat": 4,
 "nbformat_minor": 5
}
