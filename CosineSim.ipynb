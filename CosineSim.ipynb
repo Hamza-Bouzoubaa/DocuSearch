{
 "cells": [
  {
   "cell_type": "code",
   "execution_count": 85,
   "id": "03373e0e-f3fc-4ea0-911b-dccacd2b73d0",
   "metadata": {},
   "outputs": [],
   "source": [
    "from sklearn.metrics.pairwise import cosine_similarity\n",
    "import numpy as np"
   ]
  },
  {
   "cell_type": "code",
   "execution_count": 92,
   "id": "a994979a-8db6-426e-b758-779923ef050b",
   "metadata": {},
   "outputs": [],
   "source": [
    "vector1 = np.array([[1,1,1]])\n",
    "vector2 = np.array([[0,0,10]])"
   ]
  },
  {
   "cell_type": "code",
   "execution_count": 93,
   "id": "296fe52a-5af1-4384-b670-f4689d0c33a9",
   "metadata": {},
   "outputs": [],
   "source": [
    "distance = cosine_similarity(vector1,vector2)"
   ]
  },
  {
   "cell_type": "code",
   "execution_count": 91,
   "id": "8328967e-da3a-4086-8cce-0fb5ef30ba14",
   "metadata": {},
   "outputs": [
    {
     "data": {
      "text/plain": [
       "array([[0.57735027]])"
      ]
     },
     "execution_count": 91,
     "metadata": {},
     "output_type": "execute_result"
    }
   ],
   "source": [
    "distance"
   ]
  },
  {
   "cell_type": "code",
   "execution_count": 76,
   "id": "d732eb9a-1fbe-40c0-b6e8-03f3fae7de23",
   "metadata": {},
   "outputs": [
    {
     "data": {
      "text/plain": [
       "0"
      ]
     },
     "execution_count": 76,
     "metadata": {},
     "output_type": "execute_result"
    }
   ],
   "source": [
    "np.argsort(distance)[0][-2]"
   ]
  },
  {
   "cell_type": "code",
   "execution_count": 80,
   "id": "fec57ecb-4e5d-499a-8997-7af228709021",
   "metadata": {},
   "outputs": [],
   "source": [
    "DocumentText = \"  \\n \\n \\n ICI, ÇA SE PEUT \\nLà où le monde \\nvient étudier \\nVous trouverez chez nous un parfait équilibre :  \\nl’action et les possibilités d’une grande ville, combinées  à une ambiance décontractée tout près de la nature.  Notre magnifique campus en plein cœur d’Ottawa e\\nst l’endroit idéal où profiter d’une éducation de \\ncalibre mondial. \\n2 \"\n"
   ]
  },
  {
   "cell_type": "code",
   "execution_count": 81,
   "id": "9b034c99-1248-45a9-b7c3-bd025c331a5f",
   "metadata": {},
   "outputs": [],
   "source": [
    "import re  \n",
    "  \n",
    "def clean_text(text):  \n",
    "    # remove multiple spaces, newline characters, and tabs  \n",
    "    text = re.sub('\\s+', ' ', text)  \n",
    "    # convert all text to lower case  \n",
    "    text = text.lower()  \n",
    "    return text  \n"
   ]
  },
  {
   "cell_type": "code",
   "execution_count": 82,
   "id": "e884ed52-610c-4c1a-a7ee-728d629059fb",
   "metadata": {},
   "outputs": [
    {
     "data": {
      "text/plain": [
       "' ici, ça se peut là où le monde vient étudier vous trouverez chez nous un parfait équilibre : l’action et les possibilités d’une grande ville, combinées à une ambiance décontractée tout près de la nature. notre magnifique campus en plein cœur d’ottawa e st l’endroit idéal où profiter d’une éducation de calibre mondial. 2 '"
      ]
     },
     "execution_count": 82,
     "metadata": {},
     "output_type": "execute_result"
    }
   ],
   "source": [
    "clean_text(DocumentText)"
   ]
  },
  {
   "cell_type": "code",
   "execution_count": null,
   "id": "1c926d24-7658-49b0-ab88-f6b76322df22",
   "metadata": {},
   "outputs": [],
   "source": []
  }
 ],
 "metadata": {
  "kernelspec": {
   "display_name": "Python 3 (ipykernel)",
   "language": "python",
   "name": "python3"
  },
  "language_info": {
   "codemirror_mode": {
    "name": "ipython",
    "version": 3
   },
   "file_extension": ".py",
   "mimetype": "text/x-python",
   "name": "python",
   "nbconvert_exporter": "python",
   "pygments_lexer": "ipython3",
   "version": "3.10.11"
  }
 },
 "nbformat": 4,
 "nbformat_minor": 5
}
